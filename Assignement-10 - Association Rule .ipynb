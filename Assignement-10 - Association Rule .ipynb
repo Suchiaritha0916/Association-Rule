{
 "cells": [
  {
   "cell_type": "markdown",
   "id": "517e4317-9532-48d3-8e1a-b9cd735319f9",
   "metadata": {},
   "source": [
    "## Association Rule"
   ]
  },
  {
   "cell_type": "code",
   "execution_count": 1,
   "id": "d1996bce-d151-4c46-a8c1-e4a4df4894e5",
   "metadata": {
    "tags": []
   },
   "outputs": [],
   "source": [
    "import pandas as pd"
   ]
  },
  {
   "cell_type": "code",
   "execution_count": 2,
   "id": "640b7230-74c3-4771-9746-53eb1dc5eb2f",
   "metadata": {
    "tags": []
   },
   "outputs": [],
   "source": [
    "data = pd.read_excel(r\"C:\\Users\\user\\Downloads\\OneDrive\\Documents\\Assigments of DS(ExelR)\\Association Rules\\Online retail.xlsx\")"
   ]
  },
  {
   "cell_type": "code",
   "execution_count": 3,
   "id": "f0a54ec9-3a27-4fa8-af1a-1071ea96b22f",
   "metadata": {
    "tags": []
   },
   "outputs": [
    {
     "data": {
      "text/html": [
       "<div>\n",
       "<style scoped>\n",
       "    .dataframe tbody tr th:only-of-type {\n",
       "        vertical-align: middle;\n",
       "    }\n",
       "\n",
       "    .dataframe tbody tr th {\n",
       "        vertical-align: top;\n",
       "    }\n",
       "\n",
       "    .dataframe thead th {\n",
       "        text-align: right;\n",
       "    }\n",
       "</style>\n",
       "<table border=\"1\" class=\"dataframe\">\n",
       "  <thead>\n",
       "    <tr style=\"text-align: right;\">\n",
       "      <th></th>\n",
       "      <th>shrimp,almonds,avocado,vegetables mix,green grapes,whole weat flour,yams,cottage cheese,energy drink,tomato juice,low fat yogurt,green tea,honey,salad,mineral water,salmon,antioxydant juice,frozen smoothie,spinach,olive oil</th>\n",
       "    </tr>\n",
       "  </thead>\n",
       "  <tbody>\n",
       "    <tr>\n",
       "      <th>0</th>\n",
       "      <td>burgers,meatballs,eggs</td>\n",
       "    </tr>\n",
       "    <tr>\n",
       "      <th>1</th>\n",
       "      <td>chutney</td>\n",
       "    </tr>\n",
       "    <tr>\n",
       "      <th>2</th>\n",
       "      <td>turkey,avocado</td>\n",
       "    </tr>\n",
       "    <tr>\n",
       "      <th>3</th>\n",
       "      <td>mineral water,milk,energy bar,whole wheat rice...</td>\n",
       "    </tr>\n",
       "    <tr>\n",
       "      <th>4</th>\n",
       "      <td>low fat yogurt</td>\n",
       "    </tr>\n",
       "  </tbody>\n",
       "</table>\n",
       "</div>"
      ],
      "text/plain": [
       "  shrimp,almonds,avocado,vegetables mix,green grapes,whole weat flour,yams,cottage cheese,energy drink,tomato juice,low fat yogurt,green tea,honey,salad,mineral water,salmon,antioxydant juice,frozen smoothie,spinach,olive oil\n",
       "0                             burgers,meatballs,eggs                                                                                                                                                                             \n",
       "1                                            chutney                                                                                                                                                                             \n",
       "2                                     turkey,avocado                                                                                                                                                                             \n",
       "3  mineral water,milk,energy bar,whole wheat rice...                                                                                                                                                                             \n",
       "4                                     low fat yogurt                                                                                                                                                                             "
      ]
     },
     "execution_count": 3,
     "metadata": {},
     "output_type": "execute_result"
    }
   ],
   "source": [
    "data.head()"
   ]
  },
  {
   "cell_type": "code",
   "execution_count": 4,
   "id": "89697d78-d3fa-42cc-8842-968defff26c6",
   "metadata": {
    "tags": []
   },
   "outputs": [
    {
     "data": {
      "text/html": [
       "<div>\n",
       "<style scoped>\n",
       "    .dataframe tbody tr th:only-of-type {\n",
       "        vertical-align: middle;\n",
       "    }\n",
       "\n",
       "    .dataframe tbody tr th {\n",
       "        vertical-align: top;\n",
       "    }\n",
       "\n",
       "    .dataframe thead th {\n",
       "        text-align: right;\n",
       "    }\n",
       "</style>\n",
       "<table border=\"1\" class=\"dataframe\">\n",
       "  <thead>\n",
       "    <tr style=\"text-align: right;\">\n",
       "      <th></th>\n",
       "      <th>shrimp,almonds,avocado,vegetables mix,green grapes,whole weat flour,yams,cottage cheese,energy drink,tomato juice,low fat yogurt,green tea,honey,salad,mineral water,salmon,antioxydant juice,frozen smoothie,spinach,olive oil</th>\n",
       "    </tr>\n",
       "  </thead>\n",
       "  <tbody>\n",
       "    <tr>\n",
       "      <th>7495</th>\n",
       "      <td>butter,light mayo,fresh bread</td>\n",
       "    </tr>\n",
       "    <tr>\n",
       "      <th>7496</th>\n",
       "      <td>burgers,frozen vegetables,eggs,french fries,ma...</td>\n",
       "    </tr>\n",
       "    <tr>\n",
       "      <th>7497</th>\n",
       "      <td>chicken</td>\n",
       "    </tr>\n",
       "    <tr>\n",
       "      <th>7498</th>\n",
       "      <td>escalope,green tea</td>\n",
       "    </tr>\n",
       "    <tr>\n",
       "      <th>7499</th>\n",
       "      <td>eggs,frozen smoothie,yogurt cake,low fat yogurt</td>\n",
       "    </tr>\n",
       "  </tbody>\n",
       "</table>\n",
       "</div>"
      ],
      "text/plain": [
       "     shrimp,almonds,avocado,vegetables mix,green grapes,whole weat flour,yams,cottage cheese,energy drink,tomato juice,low fat yogurt,green tea,honey,salad,mineral water,salmon,antioxydant juice,frozen smoothie,spinach,olive oil\n",
       "7495                      butter,light mayo,fresh bread                                                                                                                                                                             \n",
       "7496  burgers,frozen vegetables,eggs,french fries,ma...                                                                                                                                                                             \n",
       "7497                                            chicken                                                                                                                                                                             \n",
       "7498                                 escalope,green tea                                                                                                                                                                             \n",
       "7499    eggs,frozen smoothie,yogurt cake,low fat yogurt                                                                                                                                                                             "
      ]
     },
     "execution_count": 4,
     "metadata": {},
     "output_type": "execute_result"
    }
   ],
   "source": [
    "data.tail()"
   ]
  },
  {
   "cell_type": "code",
   "execution_count": 5,
   "id": "15aa7355-5023-4618-a0af-ebdc4d275da9",
   "metadata": {
    "tags": []
   },
   "outputs": [
    {
     "data": {
      "text/html": [
       "<div>\n",
       "<style scoped>\n",
       "    .dataframe tbody tr th:only-of-type {\n",
       "        vertical-align: middle;\n",
       "    }\n",
       "\n",
       "    .dataframe tbody tr th {\n",
       "        vertical-align: top;\n",
       "    }\n",
       "\n",
       "    .dataframe thead th {\n",
       "        text-align: right;\n",
       "    }\n",
       "</style>\n",
       "<table border=\"1\" class=\"dataframe\">\n",
       "  <thead>\n",
       "    <tr style=\"text-align: right;\">\n",
       "      <th></th>\n",
       "      <th>shrimp,almonds,avocado,vegetables mix,green grapes,whole weat flour,yams,cottage cheese,energy drink,tomato juice,low fat yogurt,green tea,honey,salad,mineral water,salmon,antioxydant juice,frozen smoothie,spinach,olive oil</th>\n",
       "    </tr>\n",
       "  </thead>\n",
       "  <tbody>\n",
       "    <tr>\n",
       "      <th>count</th>\n",
       "      <td>7500</td>\n",
       "    </tr>\n",
       "    <tr>\n",
       "      <th>unique</th>\n",
       "      <td>5175</td>\n",
       "    </tr>\n",
       "    <tr>\n",
       "      <th>top</th>\n",
       "      <td>cookies</td>\n",
       "    </tr>\n",
       "    <tr>\n",
       "      <th>freq</th>\n",
       "      <td>223</td>\n",
       "    </tr>\n",
       "  </tbody>\n",
       "</table>\n",
       "</div>"
      ],
      "text/plain": [
       "       shrimp,almonds,avocado,vegetables mix,green grapes,whole weat flour,yams,cottage cheese,energy drink,tomato juice,low fat yogurt,green tea,honey,salad,mineral water,salmon,antioxydant juice,frozen smoothie,spinach,olive oil\n",
       "count                                                7500                                                                                                                                                                             \n",
       "unique                                               5175                                                                                                                                                                             \n",
       "top                                               cookies                                                                                                                                                                             \n",
       "freq                                                  223                                                                                                                                                                             "
      ]
     },
     "execution_count": 5,
     "metadata": {},
     "output_type": "execute_result"
    }
   ],
   "source": [
    "data.describe()"
   ]
  },
  {
   "cell_type": "code",
   "execution_count": 6,
   "id": "2a9c3308-26fe-47ae-98eb-051fc97eddad",
   "metadata": {
    "tags": []
   },
   "outputs": [
    {
     "name": "stdout",
     "output_type": "stream",
     "text": [
      "<class 'pandas.core.frame.DataFrame'>\n",
      "RangeIndex: 7500 entries, 0 to 7499\n",
      "Data columns (total 1 columns):\n",
      " #   Column                                                                                                                                                                                                                           Non-Null Count  Dtype \n",
      "---  ------                                                                                                                                                                                                                           --------------  ----- \n",
      " 0   shrimp,almonds,avocado,vegetables mix,green grapes,whole weat flour,yams,cottage cheese,energy drink,tomato juice,low fat yogurt,green tea,honey,salad,mineral water,salmon,antioxydant juice,frozen smoothie,spinach,olive oil  7500 non-null   object\n",
      "dtypes: object(1)\n",
      "memory usage: 58.7+ KB\n"
     ]
    }
   ],
   "source": [
    "data.info()"
   ]
  },
  {
   "cell_type": "code",
   "execution_count": 7,
   "id": "1f84bcfa-3e57-412f-853b-189f5928af83",
   "metadata": {
    "tags": []
   },
   "outputs": [],
   "source": [
    "sample_data = data.sample(n=20, random_state=42)"
   ]
  },
  {
   "cell_type": "code",
   "execution_count": 8,
   "id": "691971bb-2a45-423f-9a2f-4590705a918c",
   "metadata": {
    "tags": []
   },
   "outputs": [
    {
     "name": "stdout",
     "output_type": "stream",
     "text": [
      "     shrimp,almonds,avocado,vegetables mix,green grapes,whole weat flour,yams,cottage cheese,energy drink,tomato juice,low fat yogurt,green tea,honey,salad,mineral water,salmon,antioxydant juice,frozen smoothie,spinach,olive oil\n",
      "970                                      eggs,champagne                                                                                                                                                                             \n",
      "6279                                       burgers,milk                                                                                                                                                                             \n",
      "1859       tomatoes,french fries,body spray,yogurt cake                                                                                                                                                                             \n",
      "6803                                            cookies                                                                                                                                                                             \n",
      "6305                              mineral water,carrots                                                                                                                                                                             \n",
      "3039  shrimp,mineral water,milk,almonds,whole wheat ...                                                                                                                                                                             \n",
      "7194                             burgers,escalope,pasta                                                                                                                                                                             \n",
      "1446                                       french fries                                                                                                                                                                             \n",
      "5199   grated cheese,herb & pepper,french fries,cookies                                                                                                                                                                             \n",
      "6234  tomatoes,mineral water,eggs,ketchup,corn,pancakes                                                                                                                                                                             \n",
      "4316                                    shrimp,tomatoes                                                                                                                                                                             \n",
      "5922                              mineral water,avocado                                                                                                                                                                             \n",
      "6027                         milk,brownies,tomato juice                                                                                                                                                                             \n",
      "1850                        frozen vegetables,spaghetti                                                                                                                                                                             \n",
      "429                                             cookies                                                                                                                                                                             \n",
      "101   turkey,burgers,ground beef,chocolate,soup,almo...                                                                                                                                                                             \n",
      "4707                    butter,french fries,protein bar                                                                                                                                                                             \n",
      "465    grated cheese,mineral water,cake,chocolate bread                                                                                                                                                                             \n",
      "4129                      mineral water,green tea,honey                                                                                                                                                                             \n",
      "4828  shrimp,tomatoes,spaghetti,mineral water,salmon...                                                                                                                                                                             \n"
     ]
    }
   ],
   "source": [
    "print(sample_data)"
   ]
  },
  {
   "cell_type": "code",
   "execution_count": 9,
   "id": "0886b9de-58ee-4cd9-a183-6a43c4ba1fa6",
   "metadata": {},
   "outputs": [
    {
     "name": "stdout",
     "output_type": "stream",
     "text": [
      "Requirement already satisfied: mlxtend in c:\\users\\user\\anaconda3\\lib\\site-packages (0.23.4)\n",
      "Requirement already satisfied: scipy>=1.2.1 in c:\\users\\user\\anaconda3\\lib\\site-packages (from mlxtend) (1.13.1)\n",
      "Requirement already satisfied: numpy>=1.16.2 in c:\\users\\user\\anaconda3\\lib\\site-packages (from mlxtend) (1.26.4)\n",
      "Requirement already satisfied: pandas>=0.24.2 in c:\\users\\user\\anaconda3\\lib\\site-packages (from mlxtend) (2.2.2)\n",
      "Requirement already satisfied: scikit-learn>=1.3.1 in c:\\users\\user\\anaconda3\\lib\\site-packages (from mlxtend) (1.5.1)\n",
      "Requirement already satisfied: matplotlib>=3.0.0 in c:\\users\\user\\anaconda3\\lib\\site-packages (from mlxtend) (3.9.2)\n",
      "Requirement already satisfied: joblib>=0.13.2 in c:\\users\\user\\anaconda3\\lib\\site-packages (from mlxtend) (1.4.2)\n",
      "Requirement already satisfied: contourpy>=1.0.1 in c:\\users\\user\\anaconda3\\lib\\site-packages (from matplotlib>=3.0.0->mlxtend) (1.2.0)\n",
      "Requirement already satisfied: cycler>=0.10 in c:\\users\\user\\anaconda3\\lib\\site-packages (from matplotlib>=3.0.0->mlxtend) (0.11.0)\n",
      "Requirement already satisfied: fonttools>=4.22.0 in c:\\users\\user\\anaconda3\\lib\\site-packages (from matplotlib>=3.0.0->mlxtend) (4.51.0)\n",
      "Requirement already satisfied: kiwisolver>=1.3.1 in c:\\users\\user\\anaconda3\\lib\\site-packages (from matplotlib>=3.0.0->mlxtend) (1.4.4)\n",
      "Requirement already satisfied: packaging>=20.0 in c:\\users\\user\\anaconda3\\lib\\site-packages (from matplotlib>=3.0.0->mlxtend) (24.1)\n",
      "Requirement already satisfied: pillow>=8 in c:\\users\\user\\anaconda3\\lib\\site-packages (from matplotlib>=3.0.0->mlxtend) (10.4.0)\n",
      "Requirement already satisfied: pyparsing>=2.3.1 in c:\\users\\user\\anaconda3\\lib\\site-packages (from matplotlib>=3.0.0->mlxtend) (3.1.2)\n",
      "Requirement already satisfied: python-dateutil>=2.7 in c:\\users\\user\\anaconda3\\lib\\site-packages (from matplotlib>=3.0.0->mlxtend) (2.9.0.post0)\n",
      "Requirement already satisfied: pytz>=2020.1 in c:\\users\\user\\anaconda3\\lib\\site-packages (from pandas>=0.24.2->mlxtend) (2024.1)\n",
      "Requirement already satisfied: tzdata>=2022.7 in c:\\users\\user\\anaconda3\\lib\\site-packages (from pandas>=0.24.2->mlxtend) (2023.3)\n",
      "Requirement already satisfied: threadpoolctl>=3.1.0 in c:\\users\\user\\anaconda3\\lib\\site-packages (from scikit-learn>=1.3.1->mlxtend) (3.5.0)\n",
      "Requirement already satisfied: six>=1.5 in c:\\users\\user\\anaconda3\\lib\\site-packages (from python-dateutil>=2.7->matplotlib>=3.0.0->mlxtend) (1.16.0)\n"
     ]
    }
   ],
   "source": [
    "!pip install mlxtend\n"
   ]
  },
  {
   "cell_type": "code",
   "execution_count": 10,
   "id": "8d4e32dc-b23c-47f5-8931-9b96269576d1",
   "metadata": {
    "tags": []
   },
   "outputs": [],
   "source": [
    "from mlxtend.frequent_patterns import apriori, association_rules\n",
    "from mlxtend.preprocessing import TransactionEncoder\n",
    "\n",
    "# Sample transactions\n",
    "transactions = [\n",
    "    ['burgers', 'meatballs', 'eggs'],\n",
    "    ['chutney'],\n",
    "    ['turkey', 'avocado'],\n",
    "    ['mineral water', 'milk', 'energy bar', 'whole wheat rice', 'green tea'],\n",
    "    ['low fat yogurt'],\n",
    "    ['eggs,champagne'],\n",
    "    ['burgers,milk'],\n",
    "    ['tomatoes,french fries,body spray,yogurt cake '],\n",
    "    ['cookies'],\n",
    "    ['mineral water,carrots']\n",
    "    \n",
    "    # Add more transactions as needed\n",
    "]\n"
   ]
  },
  {
   "cell_type": "code",
   "execution_count": 12,
   "id": "0691e8db-bf32-4f11-aa94-fc222401ea47",
   "metadata": {
    "tags": []
   },
   "outputs": [
    {
     "name": "stdout",
     "output_type": "stream",
     "text": [
      "    antecedents   consequents  antecedent support  consequent support  \\\n",
      "0     (avocado)      (turkey)                 0.1                 0.1   \n",
      "1      (turkey)     (avocado)                 0.1                 0.1   \n",
      "2     (burgers)        (eggs)                 0.1                 0.1   \n",
      "3        (eggs)     (burgers)                 0.1                 0.1   \n",
      "4     (burgers)   (meatballs)                 0.1                 0.1   \n",
      "5   (meatballs)     (burgers)                 0.1                 0.1   \n",
      "6   (meatballs)        (eggs)                 0.1                 0.1   \n",
      "7        (eggs)   (meatballs)                 0.1                 0.1   \n",
      "8  (energy bar)   (green tea)                 0.1                 0.1   \n",
      "9   (green tea)  (energy bar)                 0.1                 0.1   \n",
      "\n",
      "   support  confidence  lift  representativity  leverage  conviction  \\\n",
      "0      0.1         1.0  10.0               1.0      0.09         inf   \n",
      "1      0.1         1.0  10.0               1.0      0.09         inf   \n",
      "2      0.1         1.0  10.0               1.0      0.09         inf   \n",
      "3      0.1         1.0  10.0               1.0      0.09         inf   \n",
      "4      0.1         1.0  10.0               1.0      0.09         inf   \n",
      "5      0.1         1.0  10.0               1.0      0.09         inf   \n",
      "6      0.1         1.0  10.0               1.0      0.09         inf   \n",
      "7      0.1         1.0  10.0               1.0      0.09         inf   \n",
      "8      0.1         1.0  10.0               1.0      0.09         inf   \n",
      "9      0.1         1.0  10.0               1.0      0.09         inf   \n",
      "\n",
      "   zhangs_metric  jaccard  certainty  kulczynski  \n",
      "0            1.0      1.0        1.0         1.0  \n",
      "1            1.0      1.0        1.0         1.0  \n",
      "2            1.0      1.0        1.0         1.0  \n",
      "3            1.0      1.0        1.0         1.0  \n",
      "4            1.0      1.0        1.0         1.0  \n",
      "5            1.0      1.0        1.0         1.0  \n",
      "6            1.0      1.0        1.0         1.0  \n",
      "7            1.0      1.0        1.0         1.0  \n",
      "8            1.0      1.0        1.0         1.0  \n",
      "9            1.0      1.0        1.0         1.0  \n"
     ]
    }
   ],
   "source": [
    "# Step 1: Preprocess the Data\n",
    "# Convert the transactions list into a format suitable for apriori\n",
    "te = TransactionEncoder()\n",
    "te_ary = te.fit(transactions).transform(transactions)\n",
    "df = pd.DataFrame(te_ary, columns=te.columns_)\n",
    "\n",
    "# Step 2: Apply the Apriori Algorithm\n",
    "frequent_itemsets = apriori(df, min_support=0.1, use_colnames=True)\n",
    "\n",
    "# Step 3: Generate Association Rules\n",
    "rules = association_rules(frequent_itemsets, metric=\"confidence\", min_threshold=0.5)\n",
    "\n",
    "# Step 4: Sort Rules\n",
    "rules = rules.sort_values(['lift', 'confidence'], ascending=False)\n",
    "\n",
    "# Step 5: Display the rules\n",
    "print(rules.head(10))"
   ]
  },
  {
   "cell_type": "markdown",
   "id": "8674da1b-b4d6-4c48-b4dc-185b2498b61d",
   "metadata": {},
   "source": [
    "### Setted Threshold "
   ]
  },
  {
   "cell_type": "raw",
   "id": "7d6d0c48-cb7a-4e49-b6cd-2167041dae66",
   "metadata": {},
   "source": [
    "1.Support: Proportion of transactions containing an item.\n",
    "Example: min_support=0.01 → item appears in at least 1% of transactions.\n",
    "2.Confidence: Probability that a customer buys Y given they bought X.\n",
    "Example: confidence > 0.5 means at least 50% of the time.\n",
    "3.Lift: Measures how much more likely X & Y occur together than randomly.\n",
    "lift > 1 means positive association (interesting)."
   ]
  },
  {
   "cell_type": "markdown",
   "id": "370de845-fbd7-4f1c-83e0-5f2ff245f835",
   "metadata": {},
   "source": [
    "### Interview Question"
   ]
  },
  {
   "cell_type": "markdown",
   "id": "7825f41f-be8d-4841-b7e8-c1349ffba81c",
   "metadata": {},
   "source": [
    "1.\tWhat is lift and why is it important in Association rules?\n",
    "ANS = Lift is a key metric used in association rule mining, a technique in data mining that identifies relationships between variables in large datasets. Lift measures how much more likely the occurrence of two items (antecedent and consequent) together is than would be expected if the items were independent."
   ]
  },
  {
   "cell_type": "markdown",
   "id": "2fc58c18-63d5-458f-8c63-2e84498f6e38",
   "metadata": {},
   "source": [
    "2.\tWhat is support and Confidence. How do you calculate them?\n",
    "ANS = Support indicates how frequently an itemset appears in the dataset. It reflects the proportion of transactions in the dataset that contain a specific itemset.\n",
    "\n",
    "Confidence measures the likelihood of the consequent occurring given that the antecedent has occurred. It is the conditional probability that B occurs, given that A occurs."
   ]
  },
  {
   "cell_type": "markdown",
   "id": "cecde505-5580-4073-b97f-913def7f487f",
   "metadata": {},
   "source": [
    "3.\tWhat are some limitations or challenges of Association rules mining?\n",
    "ANS = Association rule mining is a powerful technique for discovering interesting patterns in large datasets, but it comes with several limitations and challenges\n",
    "1. Scalability and Efficiency\n",
    "2. Handling Rare Items\n",
    "3. verwhelming Number of Rules\n",
    "4. Low Confidence or Lift\n",
    "5. Difficulty in Handling Continuous Data"
   ]
  },
  {
   "cell_type": "code",
   "execution_count": null,
   "id": "93f8328d-8554-4562-b48f-27746841f79b",
   "metadata": {},
   "outputs": [],
   "source": []
  }
 ],
 "metadata": {
  "kernelspec": {
   "display_name": "Python [conda env:base] *",
   "language": "python",
   "name": "conda-base-py"
  },
  "language_info": {
   "codemirror_mode": {
    "name": "ipython",
    "version": 3
   },
   "file_extension": ".py",
   "mimetype": "text/x-python",
   "name": "python",
   "nbconvert_exporter": "python",
   "pygments_lexer": "ipython3",
   "version": "3.12.7"
  }
 },
 "nbformat": 4,
 "nbformat_minor": 5
}
